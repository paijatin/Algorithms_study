{
 "cells": [
  {
   "cell_type": "markdown",
   "metadata": {},
   "source": [
    "# Sorting"
   ]
  },
  {
   "cell_type": "markdown",
   "metadata": {
    "heading_collapsed": true
   },
   "source": [
    "## 1. Insertion Sort:"
   ]
  },
  {
   "cell_type": "markdown",
   "metadata": {
    "hidden": true
   },
   "source": [
    "In insertion sort, we start at the left end of the array and do pairwise swaps until the `key` is **inserted** into it's correct(sorted) position. We do this at every position of the array starting from `pos = 1` until the end of the array. "
   ]
  },
  {
   "cell_type": "markdown",
   "metadata": {
    "hidden": true
   },
   "source": [
    "![Insertion sort gif](https://upload.wikimedia.org/wikipedia/commons/0/0f/Insertion-sort-example-300px.gif)"
   ]
  },
  {
   "cell_type": "markdown",
   "metadata": {
    "hidden": true
   },
   "source": [
    "### Psuedocode:\n",
    "`ins_sort(arr[0..n], n):\n",
    "    for i = 1 -> n, i++:    \n",
    "        key = arr[i]        \n",
    "        for j = i-1 -> 0, j--:        \n",
    "            if key < arr[j]: swap(arr[j], key)            \n",
    "            else: break`\n"
   ]
  },
  {
   "cell_type": "markdown",
   "metadata": {
    "hidden": true
   },
   "source": [
    "### Complexity:\n",
    "**Time Complexity:**\n",
    "In order to understand the time complexity, let's consider what happens in a single iteration. For a key in position `i`, we would need to do at the most `i` swaps. So the work done per iteration (or per element of the array) is O(n).\n",
    "Hence for an array of length n, the work done is O(n) * O(n) = O(n^2)\n",
    "\n",
    "**Space complexity:**\n",
    "Insertion sort is an in-place sorting algorithm. ie. it doesn't use any extra space to store the elements of the array to be sorted. So the space complexity is O(1). "
   ]
  },
  {
   "cell_type": "markdown",
   "metadata": {
    "hidden": true
   },
   "source": [
    "##### An Interesting Insight:\n",
    "If you think about it, we're really doing 2 \\* O(n) operations per iteration, viz. O(n) compares and O(n) swaps. But since the left part of the array is already sorted, we need not do O(n) compares. We can find the correct position to insert the `key` using *binary search* on the left part of the array. This would improve the time for compares to O(log n). \n",
    "\n",
    "So then can the entire alogrithm be improved to O(n \\* log n) time?\n",
    "No. This is because even if we find the correct position for `key`, the fact remains that elements on the right of that correct position need to be shifted one by one to the right. The worst case time to do this shifting will be O(n). So the total time complexity of our algorithm still remains O(n * n) = O(n^2)"
   ]
  },
  {
   "cell_type": "markdown",
   "metadata": {
    "hidden": true
   },
   "source": [
    "***"
   ]
  },
  {
   "cell_type": "markdown",
   "metadata": {
    "hidden": true
   },
   "source": []
  },
  {
   "cell_type": "markdown",
   "metadata": {
    "heading_collapsed": true
   },
   "source": [
    "## 2. Merge Sort:\n"
   ]
  },
  {
   "cell_type": "markdown",
   "metadata": {
    "hidden": true
   },
   "source": [
    "Merge sort is a type of **\"Divide and Conquer\"** algorithm, having a recursive divide step and a simple merge step. The merge step is where all the sorting really takes place.\n",
    "\n",
    "### Pseudocode:\n",
    "The easiest way to think about merge sort is to consider two halves of the array separately and think that exists a *magic* sorting algorithm that sorts both the halves. Now the merge step employs a simple two-finger algorithm that compares elements one-by-one each from both the sorted halves and combines the two arrays into 1 single array.\n",
    "\n",
    "If we use the above algorithm for each of the two halves, then this becomes a recursion, until the array size in the recursion reaches 1. \n",
    "\n",
    "`mergesort(array):\n",
    "    mergesort(array's left half)\n",
    "    mergesort(array's right half)\n",
    "    merge left half and right half in sorted order`"
   ]
  },
  {
   "cell_type": "markdown",
   "metadata": {
    "hidden": true
   },
   "source": [
    "![](https://upload.wikimedia.org/wikipedia/commons/c/cc/Merge-sort-example-300px.gif)"
   ]
  },
  {
   "cell_type": "code",
   "execution_count": 1,
   "metadata": {
    "code_folding": [
     0,
     9
    ],
    "hidden": true
   },
   "outputs": [],
   "source": [
    "def mergesort(arr, l, r):\n",
    "    if l >= r:\n",
    "        return\n",
    "    else:\n",
    "        mid = (l+r) // 2\n",
    "        mergesort(arr, l, mid)\n",
    "        mergesort(arr, mid+1, r)\n",
    "        merge(arr, l, r)\n",
    "    \n",
    "def merge(arr, l, r):\n",
    "    temp = []\n",
    "    lend = (l+r) // 2\n",
    "    rstart = lend + 1\n",
    "    size = r - l + 1\n",
    "    l_index = l\n",
    "    r_index = rstart\n",
    "    index = l\n",
    "    \n",
    "    while (l_index <= lend and r_index <= r):\n",
    "        if(arr[l_index] <= arr[r_index]):\n",
    "            temp[index] = arr[l_index]\n",
    "            l_index += 1\n",
    "        else:\n",
    "            temp[index] = arr[r_index]\n",
    "            r_index += 1\n",
    "        index += 1\n",
    "    \n",
    "    if(l_index <= lend): temp[index] += arr[l_index:]\n",
    "    if(r_index <= r): temp[index] += arr[r_index:]\n",
    "    for i in range (l, l+size):\n",
    "        arr[i] = temp[i]\n",
    "   "
   ]
  },
  {
   "cell_type": "markdown",
   "metadata": {
    "hidden": true
   },
   "source": [
    "### Complexity:\n",
    "**Time complexity:**  \n",
    "For the merge step of the algorithm, it's easy to see that we do `n` comparisons at each step. So merge takes O(n) time.\n",
    "The time taken to divide an array of size n can be given by: T[n] = 2 \\* T[n/2]\n",
    "\n",
    "So the time taken for the algorithm is given by:\n",
    "                                T[n] = 2 \\* T[n/2] + O(n)\n",
    "                                \n",
    "Let's construct a vizualization of this:                                                        \n",
    "\n",
    "`At the root node:                                  O(n) =   cn                         Work done = cn        |\n",
    "                                               ______________|______________                                  |\n",
    "                                              |                            |                                  |\n",
    "dividing the array at each step:              cn/2                        cn/2                    = cn        |\n",
    "                                      ________|_______             ________|__________                  Depth of tree=\n",
    "                                     |               |            |                 |                   log(n) (base2)\n",
    "                                    cn/4            cn/4         cn/4              cn/4           = cn        |\n",
    "                                                             .                                                |\n",
    "                                                             .                                                |\n",
    "                                                             .                                                |\n",
    "n leaves:                         c  c  c    ............................... c c c                = cn        |\n",
    "`\n",
    "\n",
    "\n",
    "So here we see that the total work done at each iteration is cn, while the depth of the tree is log(n).\n",
    "Therefore, the total complexity can be calculated as:  \n",
    "O( cn \\* log n) = **O(nlogn)**\n",
    "\n",
    "\n",
    "**Space complexity:**  \n",
    "The major thing that makes merge sort fall behind other sorting algorithms is it's space complexity. Since we're using a temporary array in the merge step, the space complexity of this algorithm is **O(n).** In contrast, the insertion sort algorithm has a space complexity of O(1) since it does an *in-place* sort.\n"
   ]
  }
 ],
 "metadata": {
  "kernelspec": {
   "display_name": "Python 3",
   "language": "python",
   "name": "python3"
  },
  "language_info": {
   "codemirror_mode": {
    "name": "ipython",
    "version": 3
   },
   "file_extension": ".py",
   "mimetype": "text/x-python",
   "name": "python",
   "nbconvert_exporter": "python",
   "pygments_lexer": "ipython3",
   "version": "3.6.4"
  }
 },
 "nbformat": 4,
 "nbformat_minor": 2
}
